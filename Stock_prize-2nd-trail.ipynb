{
 "cells": [
  {
   "cell_type": "code",
   "execution_count": 1,
   "metadata": {},
   "outputs": [],
   "source": [
    "import numpy as np # linear algebra\n",
    "import pandas as pd # data processing, CSV file I/O (e.g. pd.read_csv)\n",
    "import matplotlib.pyplot as plt\n",
    "import seaborn as sns"
   ]
  },
  {
   "cell_type": "code",
   "execution_count": 2,
   "metadata": {},
   "outputs": [
    {
     "data": {
      "text/html": [
       "<div>\n",
       "<style scoped>\n",
       "    .dataframe tbody tr th:only-of-type {\n",
       "        vertical-align: middle;\n",
       "    }\n",
       "\n",
       "    .dataframe tbody tr th {\n",
       "        vertical-align: top;\n",
       "    }\n",
       "\n",
       "    .dataframe thead th {\n",
       "        text-align: right;\n",
       "    }\n",
       "</style>\n",
       "<table border=\"1\" class=\"dataframe\">\n",
       "  <thead>\n",
       "    <tr style=\"text-align: right;\">\n",
       "      <th></th>\n",
       "      <th>Company</th>\n",
       "      <th>Date</th>\n",
       "      <th>Close/Last</th>\n",
       "      <th>Volume</th>\n",
       "      <th>Open</th>\n",
       "      <th>High</th>\n",
       "      <th>Low</th>\n",
       "    </tr>\n",
       "  </thead>\n",
       "  <tbody>\n",
       "    <tr>\n",
       "      <th>0</th>\n",
       "      <td>AAPL</td>\n",
       "      <td>07/17/2023</td>\n",
       "      <td>$193.99</td>\n",
       "      <td>50520160</td>\n",
       "      <td>$191.90</td>\n",
       "      <td>$194.32</td>\n",
       "      <td>$191.81</td>\n",
       "    </tr>\n",
       "    <tr>\n",
       "      <th>1</th>\n",
       "      <td>AAPL</td>\n",
       "      <td>07/14/2023</td>\n",
       "      <td>$190.69</td>\n",
       "      <td>41616240</td>\n",
       "      <td>$190.23</td>\n",
       "      <td>$191.1799</td>\n",
       "      <td>$189.63</td>\n",
       "    </tr>\n",
       "    <tr>\n",
       "      <th>2</th>\n",
       "      <td>AAPL</td>\n",
       "      <td>07/13/2023</td>\n",
       "      <td>$190.54</td>\n",
       "      <td>41342340</td>\n",
       "      <td>$190.50</td>\n",
       "      <td>$191.19</td>\n",
       "      <td>$189.78</td>\n",
       "    </tr>\n",
       "    <tr>\n",
       "      <th>3</th>\n",
       "      <td>AAPL</td>\n",
       "      <td>07-12-2023</td>\n",
       "      <td>$189.77</td>\n",
       "      <td>60750250</td>\n",
       "      <td>$189.68</td>\n",
       "      <td>$191.70</td>\n",
       "      <td>$188.47</td>\n",
       "    </tr>\n",
       "    <tr>\n",
       "      <th>4</th>\n",
       "      <td>AAPL</td>\n",
       "      <td>07-11-2023</td>\n",
       "      <td>$188.08</td>\n",
       "      <td>46638120</td>\n",
       "      <td>$189.16</td>\n",
       "      <td>$189.30</td>\n",
       "      <td>$186.60</td>\n",
       "    </tr>\n",
       "  </tbody>\n",
       "</table>\n",
       "</div>"
      ],
      "text/plain": [
       "  Company        Date Close/Last    Volume     Open       High      Low\n",
       "0    AAPL  07/17/2023    $193.99  50520160  $191.90    $194.32  $191.81\n",
       "1    AAPL  07/14/2023    $190.69  41616240  $190.23  $191.1799  $189.63\n",
       "2    AAPL  07/13/2023    $190.54  41342340  $190.50    $191.19  $189.78\n",
       "3    AAPL  07-12-2023    $189.77  60750250  $189.68    $191.70  $188.47\n",
       "4    AAPL  07-11-2023    $188.08  46638120  $189.16    $189.30  $186.60"
      ]
     },
     "execution_count": 2,
     "metadata": {},
     "output_type": "execute_result"
    }
   ],
   "source": [
    "df= pd.read_csv('data.csv')\n",
    "df.head()"
   ]
  },
  {
   "cell_type": "code",
   "execution_count": 3,
   "metadata": {},
   "outputs": [
    {
     "name": "stdout",
     "output_type": "stream",
     "text": [
      "<class 'pandas.core.frame.DataFrame'>\n",
      "RangeIndex: 25160 entries, 0 to 25159\n",
      "Data columns (total 7 columns):\n",
      " #   Column      Non-Null Count  Dtype \n",
      "---  ------      --------------  ----- \n",
      " 0   Company     25160 non-null  object\n",
      " 1   Date        25160 non-null  object\n",
      " 2   Close/Last  25160 non-null  object\n",
      " 3   Volume      25160 non-null  int64 \n",
      " 4   Open        25160 non-null  object\n",
      " 5   High        25160 non-null  object\n",
      " 6   Low         25160 non-null  object\n",
      "dtypes: int64(1), object(6)\n",
      "memory usage: 1.3+ MB\n"
     ]
    }
   ],
   "source": [
    "df.info() #divide date into months based on season #change "
   ]
  },
  {
   "cell_type": "code",
   "execution_count": 4,
   "metadata": {},
   "outputs": [
    {
     "data": {
      "text/plain": [
       "array(['AAPL', 'SBUX', 'MSFT', 'CSCO', 'QCOM', 'META', 'AMZN', 'TSLA',\n",
       "       'AMD', 'NFLX'], dtype=object)"
      ]
     },
     "execution_count": 4,
     "metadata": {},
     "output_type": "execute_result"
    }
   ],
   "source": [
    "df['Company'].unique()"
   ]
  },
  {
   "cell_type": "code",
   "execution_count": 5,
   "metadata": {},
   "outputs": [
    {
     "data": {
      "text/plain": [
       "0       2023-07-17\n",
       "1       2023-07-14\n",
       "2       2023-07-13\n",
       "3       2023-07-12\n",
       "4       2023-07-11\n",
       "           ...    \n",
       "25155   2013-07-24\n",
       "25156   2013-07-23\n",
       "25157   2013-07-22\n",
       "25158   2013-07-19\n",
       "25159   2013-07-18\n",
       "Name: Date, Length: 25160, dtype: datetime64[ns]"
      ]
     },
     "execution_count": 5,
     "metadata": {},
     "output_type": "execute_result"
    }
   ],
   "source": [
    "import datetime\n",
    "dti = pd.to_datetime(df.Date)\n",
    "dti"
   ]
  },
  {
   "cell_type": "code",
   "execution_count": 6,
   "metadata": {},
   "outputs": [],
   "source": [
    "df.Date=dti"
   ]
  },
  {
   "cell_type": "code",
   "execution_count": 7,
   "metadata": {},
   "outputs": [
    {
     "name": "stdout",
     "output_type": "stream",
     "text": [
      "<class 'pandas.core.frame.DataFrame'>\n",
      "RangeIndex: 25160 entries, 0 to 25159\n",
      "Data columns (total 7 columns):\n",
      " #   Column      Non-Null Count  Dtype         \n",
      "---  ------      --------------  -----         \n",
      " 0   Company     25160 non-null  object        \n",
      " 1   Date        25160 non-null  datetime64[ns]\n",
      " 2   Close/Last  25160 non-null  object        \n",
      " 3   Volume      25160 non-null  int64         \n",
      " 4   Open        25160 non-null  object        \n",
      " 5   High        25160 non-null  object        \n",
      " 6   Low         25160 non-null  object        \n",
      "dtypes: datetime64[ns](1), int64(1), object(5)\n",
      "memory usage: 1.3+ MB\n"
     ]
    }
   ],
   "source": [
    "df.info()"
   ]
  },
  {
   "cell_type": "code",
   "execution_count": 8,
   "metadata": {},
   "outputs": [],
   "source": [
    "df[\"Close/Last\"]=df[\"Close/Last\"].map(lambda x: float(x.replace(\"$\",\"\"))) #turn objects into floats\n",
    "df[\"Open\"]=df[\"Open\"].map(lambda x: float(x.replace(\"$\",\"\")))\n",
    "df[\"High\"]=df[\"High\"].map(lambda x: float(x.replace(\"$\",\"\")))\n",
    "df[\"Low\"]=df[\"Low\"].map(lambda x: float(x.replace(\"$\",\"\")))"
   ]
  },
  {
   "cell_type": "code",
   "execution_count": 9,
   "metadata": {},
   "outputs": [
    {
     "name": "stdout",
     "output_type": "stream",
     "text": [
      "<class 'pandas.core.frame.DataFrame'>\n",
      "RangeIndex: 25160 entries, 0 to 25159\n",
      "Data columns (total 7 columns):\n",
      " #   Column      Non-Null Count  Dtype         \n",
      "---  ------      --------------  -----         \n",
      " 0   Company     25160 non-null  object        \n",
      " 1   Date        25160 non-null  datetime64[ns]\n",
      " 2   Close/Last  25160 non-null  float64       \n",
      " 3   Volume      25160 non-null  int64         \n",
      " 4   Open        25160 non-null  float64       \n",
      " 5   High        25160 non-null  float64       \n",
      " 6   Low         25160 non-null  float64       \n",
      "dtypes: datetime64[ns](1), float64(4), int64(1), object(1)\n",
      "memory usage: 1.3+ MB\n"
     ]
    }
   ],
   "source": [
    "df.info()"
   ]
  },
  {
   "cell_type": "code",
   "execution_count": 10,
   "metadata": {},
   "outputs": [
    {
     "data": {
      "text/html": [
       "<div>\n",
       "<style scoped>\n",
       "    .dataframe tbody tr th:only-of-type {\n",
       "        vertical-align: middle;\n",
       "    }\n",
       "\n",
       "    .dataframe tbody tr th {\n",
       "        vertical-align: top;\n",
       "    }\n",
       "\n",
       "    .dataframe thead th {\n",
       "        text-align: right;\n",
       "    }\n",
       "</style>\n",
       "<table border=\"1\" class=\"dataframe\">\n",
       "  <thead>\n",
       "    <tr style=\"text-align: right;\">\n",
       "      <th></th>\n",
       "      <th>Company</th>\n",
       "      <th>Date</th>\n",
       "      <th>Close/Last</th>\n",
       "      <th>Volume</th>\n",
       "      <th>Open</th>\n",
       "      <th>High</th>\n",
       "      <th>Low</th>\n",
       "    </tr>\n",
       "  </thead>\n",
       "  <tbody>\n",
       "    <tr>\n",
       "      <th>0</th>\n",
       "      <td>AAPL</td>\n",
       "      <td>2023-07-17</td>\n",
       "      <td>193.99</td>\n",
       "      <td>50520160</td>\n",
       "      <td>191.90</td>\n",
       "      <td>194.3200</td>\n",
       "      <td>191.81</td>\n",
       "    </tr>\n",
       "    <tr>\n",
       "      <th>1</th>\n",
       "      <td>AAPL</td>\n",
       "      <td>2023-07-14</td>\n",
       "      <td>190.69</td>\n",
       "      <td>41616240</td>\n",
       "      <td>190.23</td>\n",
       "      <td>191.1799</td>\n",
       "      <td>189.63</td>\n",
       "    </tr>\n",
       "    <tr>\n",
       "      <th>2</th>\n",
       "      <td>AAPL</td>\n",
       "      <td>2023-07-13</td>\n",
       "      <td>190.54</td>\n",
       "      <td>41342340</td>\n",
       "      <td>190.50</td>\n",
       "      <td>191.1900</td>\n",
       "      <td>189.78</td>\n",
       "    </tr>\n",
       "    <tr>\n",
       "      <th>3</th>\n",
       "      <td>AAPL</td>\n",
       "      <td>2023-07-12</td>\n",
       "      <td>189.77</td>\n",
       "      <td>60750250</td>\n",
       "      <td>189.68</td>\n",
       "      <td>191.7000</td>\n",
       "      <td>188.47</td>\n",
       "    </tr>\n",
       "    <tr>\n",
       "      <th>4</th>\n",
       "      <td>AAPL</td>\n",
       "      <td>2023-07-11</td>\n",
       "      <td>188.08</td>\n",
       "      <td>46638120</td>\n",
       "      <td>189.16</td>\n",
       "      <td>189.3000</td>\n",
       "      <td>186.60</td>\n",
       "    </tr>\n",
       "  </tbody>\n",
       "</table>\n",
       "</div>"
      ],
      "text/plain": [
       "  Company       Date  Close/Last    Volume    Open      High     Low\n",
       "0    AAPL 2023-07-17      193.99  50520160  191.90  194.3200  191.81\n",
       "1    AAPL 2023-07-14      190.69  41616240  190.23  191.1799  189.63\n",
       "2    AAPL 2023-07-13      190.54  41342340  190.50  191.1900  189.78\n",
       "3    AAPL 2023-07-12      189.77  60750250  189.68  191.7000  188.47\n",
       "4    AAPL 2023-07-11      188.08  46638120  189.16  189.3000  186.60"
      ]
     },
     "execution_count": 10,
     "metadata": {},
     "output_type": "execute_result"
    }
   ],
   "source": [
    "df.head()"
   ]
  },
  {
   "cell_type": "code",
   "execution_count": null,
   "metadata": {},
   "outputs": [],
   "source": [
    "import pandas as pd\n",
    "import numpy as np\n",
    "from sklearn.preprocessing import MinMaxScaler\n",
    "from tensorflow.keras.models import Sequential\n",
    "from tensorflow.keras.layers import LSTM, Dense\n",
    "\n",
    "# Assuming 'df' is your DataFrame containing the stock market data\n",
    "# (with columns: 'Date', 'Close/Last', and other columns for different companies)\n",
    "\n",
    "# Drop unnecessary columns (if any) and set 'Date' as the index\n",
    "df = df.drop(['Open', 'High', 'Low', 'Volume'], axis=1)\n",
    "df.set_index('Date', inplace=True)\n",
    "\n",
    "# Normalize the data using MinMaxScaler\n",
    "scaler = MinMaxScaler(feature_range=(0, 1))\n",
    "scaled_data = scaler.fit_transform(df)\n",
    "\n",
    "# Convert the scaled data back to a DataFrame\n",
    "df_scaled = pd.DataFrame(scaled_data, columns=df.columns)\n",
    "\n",
    "# Define a function to create time series sequences\n",
    "def create_sequences(data, time_steps):\n",
    "    X, y = [], []\n",
    "    for i in range(len(data) - time_steps):\n",
    "        X.append(data[i : i + time_steps])\n",
    "        y.append(data[i + time_steps])\n",
    "    return np.array(X), np.array(y)\n",
    "\n",
    "# Set the time step for creating sequences (adjust as needed)\n",
    "time_steps = 30\n",
    "\n",
    "# Create sequences and split the data into train and test sets\n",
    "X, y = create_sequences(df_scaled.values, time_steps)\n",
    "train_size = int(len(X) * 0.75)\n",
    "X_train, y_train = X[:train_size], y[:train_size]\n",
    "X_test, y_test = X[train_size:], y[train_size:]\n",
    "\n",
    "# Reshape the input data to be 3D (samples, time steps, features)\n",
    "X_train = X_train.reshape(X_train.shape[0], X_train.shape[1], X_train.shape[2])\n",
    "X_test = X_test.reshape(X_test.shape[0], X_test.shape[1], X_test.shape[2])\n",
    "\n",
    "# Create and compile the LSTM model\n",
    "model = Sequential()\n",
    "model.add(LSTM(50, return_sequences=True, input_shape=(X_train.shape[1], X_train.shape[2])))\n",
    "model.add(LSTM(50, return_sequences=True))\n",
    "model.add(LSTM(50))\n",
    "model.add(Dense(df_scaled.shape[1]))  # Output layer with the same number of features\n",
    "model.compile(loss='mean_squared_error', optimizer='adam')\n",
    "\n",
    "# Train the LSTM model\n",
    "model.fit(X_train, y_train, epochs=100, batch_size=64, verbose=1)\n",
    "\n",
    "# Evaluate the model on the test set\n",
    "loss = model.evaluate(X_test, y_test)\n",
    "print(\"Test Loss:\", loss)\n",
    "\n",
    "# Make predictions on the test set\n",
    "y_pred = model.predict(X_test)\n",
    "\n",
    "# Inverse transform the predictions and actual values to get the original scale\n",
    "y_pred_inv = scaler.inverse_transform(y_pred)\n",
    "y_test_inv = scaler.inverse_transform(y_test)\n",
    "\n",
    "# Calculate any evaluation metrics you need (e.g., RMSE, MAE) on the original scale\n",
    "# ...\n"
   ]
  },
  {
   "cell_type": "code",
   "execution_count": null,
   "metadata": {},
   "outputs": [],
   "source": []
  }
 ],
 "metadata": {
  "kernelspec": {
   "display_name": "Python 3",
   "language": "python",
   "name": "python3"
  },
  "language_info": {
   "codemirror_mode": {
    "name": "ipython",
    "version": 3
   },
   "file_extension": ".py",
   "mimetype": "text/x-python",
   "name": "python",
   "nbconvert_exporter": "python",
   "pygments_lexer": "ipython3",
   "version": "3.7.6"
  }
 },
 "nbformat": 4,
 "nbformat_minor": 4
}
